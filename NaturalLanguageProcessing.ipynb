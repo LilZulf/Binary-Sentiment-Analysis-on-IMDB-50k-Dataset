{
  "nbformat": 4,
  "nbformat_minor": 0,
  "metadata": {
    "colab": {
      "provenance": [],
      "toc_visible": true,
      "authorship_tag": "ABX9TyOls8DptNG+ZuXlYgX9b5m8",
      "include_colab_link": true
    },
    "kernelspec": {
      "name": "python3",
      "display_name": "Python 3"
    },
    "language_info": {
      "name": "python"
    }
  },
  "cells": [
    {
      "cell_type": "markdown",
      "metadata": {
        "id": "view-in-github",
        "colab_type": "text"
      },
      "source": [
        "<a href=\"https://colab.research.google.com/github/LilZulf/Binary-Sentiment-Analysis-on-IMDB-50k-Dataset/blob/main/NaturalLanguageProcessing.ipynb\" target=\"_parent\"><img src=\"https://colab.research.google.com/assets/colab-badge.svg\" alt=\"Open In Colab\"/></a>"
      ]
    },
    {
      "cell_type": "markdown",
      "source": [
        "# Binary Sentiment Analysis on IMDB 50k Dataset"
      ],
      "metadata": {
        "id": "Su5ws5XGMTzi"
      }
    },
    {
      "cell_type": "markdown",
      "source": [
        "## Course of Action\n",
        "The overall strategy involves building a text classification pipeline based on deep learning, specifically using a neural network suitable for sequence data. The steps include:\n",
        "\n",
        "- Loading and inspecting the dataset.\n",
        "- Preprocessing the textual data to prepare it for training.\n",
        "- Building and training a deep learning model (LSTM) using TensorFlow.\n",
        "- Evaluating the model's performance using accuracy and classification metrics.\n",
        "\n",
        "Additionally, the performance will be visualized and interpreted using learning curves and classification reports.\n",
        "\n",
        "## Preprocessing Steps\n",
        "To prepare the data for modeling, several preprocessing steps were applied:\n",
        "\n",
        "- **Label Encoding**: Sentiment labels (\"positive\" and \"negative\") were converted into binary format (1 and 0).\n",
        "- **Tokenization**: Reviews were tokenized into integer sequences using Keras' `Tokenizer`, restricting the vocabulary to the top 10,000 most frequent words.\n",
        "- **Padding**: All sequences were padded or truncated to a uniform length of 500 tokens to ensure consistent input shape for the neural network.\n",
        "\n",
        "These preprocessing steps transform the raw text into a numerical format that deep learning models can process efficiently.\n",
        "\n",
        "## Proposed Model\n",
        "For this task, an **LSTM (Long Short-Term Memory)** network was selected due to its capability to effectively capture contextual dependencies in sequential data such as text. The model architecture includes:\n",
        "\n",
        "- An **Embedding layer** to learn word representations.\n",
        "- A **single LSTM layer** with 64 units to process sequences.\n",
        "- A **Dense output layer** with sigmoid activation for binary classification.\n",
        "\n",
        "LSTM is well-suited for sentiment analysis because it can remember long-term dependencies and understand the order of words, which is crucial for interpreting the meaning of sentences."
      ],
      "metadata": {
        "id": "4jexCMmKYciR"
      }
    },
    {
      "cell_type": "markdown",
      "source": [
        "1. Initial Library"
      ],
      "metadata": {
        "id": "auzxoDM3McWO"
      }
    },
    {
      "cell_type": "code",
      "execution_count": 1,
      "metadata": {
        "id": "4HVkeAhs6qIv"
      },
      "outputs": [],
      "source": [
        "import numpy as np\n",
        "import matplotlib.pyplot as plt\n",
        "import tensorflow as tf\n",
        "from tensorflow.keras import layers, models\n",
        "from tensorflow.keras.preprocessing import sequence\n",
        "from sklearn.metrics import classification_report"
      ]
    },
    {
      "cell_type": "markdown",
      "source": [
        "2. Mount to google drive to access dataset\n"
      ],
      "metadata": {
        "id": "heM6Y6NCM6xE"
      }
    },
    {
      "cell_type": "code",
      "source": [
        "from google.colab import drive\n",
        "drive.mount('/content/drive')"
      ],
      "metadata": {
        "colab": {
          "base_uri": "https://localhost:8080/"
        },
        "id": "b9SSfptnM9CM",
        "outputId": "50506e7d-4d7d-4e11-c3ac-7bd30558e803"
      },
      "execution_count": 2,
      "outputs": [
        {
          "output_type": "stream",
          "name": "stdout",
          "text": [
            "Mounted at /content/drive\n"
          ]
        }
      ]
    },
    {
      "cell_type": "markdown",
      "source": [
        "3. Load CSV"
      ],
      "metadata": {
        "id": "5uXbEMXcOCPy"
      }
    },
    {
      "cell_type": "code",
      "source": [
        "# Load CSV\n",
        "import pandas as pd\n",
        "\n",
        "file_path = '/content/drive/My Drive/dataset/imdb/IMDB Dataset.csv'\n",
        "df = pd.read_csv(file_path)\n",
        "\n",
        "# Cek data\n",
        "print(df.head())"
      ],
      "metadata": {
        "colab": {
          "base_uri": "https://localhost:8080/"
        },
        "id": "f4VSWLJtOEnp",
        "outputId": "7bc45219-b923-4415-8c0c-5a7de2932f56"
      },
      "execution_count": 3,
      "outputs": [
        {
          "output_type": "stream",
          "name": "stdout",
          "text": [
            "                                              review sentiment\n",
            "0  One of the other reviewers has mentioned that ...  positive\n",
            "1  A wonderful little production. <br /><br />The...  positive\n",
            "2  I thought this was a wonderful way to spend ti...  positive\n",
            "3  Basically there's a family where a little boy ...  negative\n",
            "4  Petter Mattei's \"Love in the Time of Money\" is...  positive\n"
          ]
        }
      ]
    },
    {
      "cell_type": "markdown",
      "source": [
        "4. Preprocessing and Model Training"
      ],
      "metadata": {
        "id": "-Gy42yZiOUuP"
      }
    },
    {
      "cell_type": "code",
      "source": [
        "# 1. Encode Label\n",
        "df['label'] = df['sentiment'].map({'positive': 1, 'negative': 0})\n",
        "\n",
        "# 2. Split Dataset\n",
        "from sklearn.model_selection import train_test_split\n",
        "\n",
        "X = df['review'].values\n",
        "y = df['label'].values\n",
        "\n",
        "X_train, X_test, y_train, y_test = train_test_split(\n",
        "    X, y, test_size=0.2, random_state=42\n",
        ")"
      ],
      "metadata": {
        "id": "cCP6yn5GOzyv"
      },
      "execution_count": 4,
      "outputs": []
    },
    {
      "cell_type": "markdown",
      "source": [
        "5. Tokenization"
      ],
      "metadata": {
        "id": "j3V_u5C4O6X7"
      }
    },
    {
      "cell_type": "code",
      "source": [
        "import tensorflow as tf\n",
        "from tensorflow.keras.preprocessing.text import Tokenizer\n",
        "from tensorflow.keras.preprocessing.sequence import pad_sequences\n",
        "\n",
        "# Tokenizer\n",
        "max_words = 10000\n",
        "max_len = 500\n",
        "\n",
        "tokenizer = Tokenizer(num_words=max_words, oov_token=\"<OOV>\")\n",
        "tokenizer.fit_on_texts(X_train)\n",
        "\n",
        "X_train_seq = tokenizer.texts_to_sequences(X_train)\n",
        "X_test_seq = tokenizer.texts_to_sequences(X_test)\n",
        "\n",
        "X_train_pad = pad_sequences(X_train_seq, maxlen=max_len)\n",
        "X_test_pad = pad_sequences(X_test_seq, maxlen=max_len)"
      ],
      "metadata": {
        "id": "vKjbLKHCO_4s"
      },
      "execution_count": 5,
      "outputs": []
    },
    {
      "cell_type": "markdown",
      "source": [
        "6. Build LSTM Model"
      ],
      "metadata": {
        "id": "de6OpznOPQqR"
      }
    },
    {
      "cell_type": "code",
      "source": [
        "def build_lstm_model():\n",
        "    model = tf.keras.Sequential([\n",
        "        tf.keras.layers.Embedding(max_words, 128, input_length=max_len),\n",
        "        tf.keras.layers.LSTM(64),\n",
        "        tf.keras.layers.Dense(1, activation='sigmoid')\n",
        "    ])\n",
        "    model.compile(optimizer='adam', loss='binary_crossentropy', metrics=['accuracy'])\n",
        "    return model\n",
        "\n",
        "model = build_lstm_model()\n",
        "\n",
        "history = model.fit(\n",
        "    X_train_pad, y_train,\n",
        "    validation_split=0.2,\n",
        "    epochs=5,\n",
        "    batch_size=32\n",
        ")\n"
      ],
      "metadata": {
        "colab": {
          "base_uri": "https://localhost:8080/"
        },
        "id": "NXJn7RAmPSEi",
        "outputId": "bd6e1adb-2ee6-479d-fb68-2e005723ebdc"
      },
      "execution_count": 6,
      "outputs": [
        {
          "output_type": "stream",
          "name": "stderr",
          "text": [
            "/usr/local/lib/python3.11/dist-packages/keras/src/layers/core/embedding.py:90: UserWarning: Argument `input_length` is deprecated. Just remove it.\n",
            "  warnings.warn(\n"
          ]
        },
        {
          "output_type": "stream",
          "name": "stdout",
          "text": [
            "Epoch 1/5\n",
            "\u001b[1m1000/1000\u001b[0m \u001b[32m━━━━━━━━━━━━━━━━━━━━\u001b[0m\u001b[37m\u001b[0m \u001b[1m342s\u001b[0m 340ms/step - accuracy: 0.7371 - loss: 0.5230 - val_accuracy: 0.8273 - val_loss: 0.4138\n",
            "Epoch 2/5\n",
            "\u001b[1m1000/1000\u001b[0m \u001b[32m━━━━━━━━━━━━━━━━━━━━\u001b[0m\u001b[37m\u001b[0m \u001b[1m392s\u001b[0m 350ms/step - accuracy: 0.8649 - loss: 0.3276 - val_accuracy: 0.8945 - val_loss: 0.2546\n",
            "Epoch 3/5\n",
            "\u001b[1m1000/1000\u001b[0m \u001b[32m━━━━━━━━━━━━━━━━━━━━\u001b[0m\u001b[37m\u001b[0m \u001b[1m372s\u001b[0m 340ms/step - accuracy: 0.9362 - loss: 0.1749 - val_accuracy: 0.8965 - val_loss: 0.2528\n",
            "Epoch 4/5\n",
            "\u001b[1m1000/1000\u001b[0m \u001b[32m━━━━━━━━━━━━━━━━━━━━\u001b[0m\u001b[37m\u001b[0m \u001b[1m399s\u001b[0m 357ms/step - accuracy: 0.9643 - loss: 0.1083 - val_accuracy: 0.8925 - val_loss: 0.3257\n",
            "Epoch 5/5\n",
            "\u001b[1m1000/1000\u001b[0m \u001b[32m━━━━━━━━━━━━━━━━━━━━\u001b[0m\u001b[37m\u001b[0m \u001b[1m335s\u001b[0m 335ms/step - accuracy: 0.9790 - loss: 0.0681 - val_accuracy: 0.8884 - val_loss: 0.3807\n"
          ]
        }
      ]
    },
    {
      "cell_type": "markdown",
      "source": [
        "7. Model Evaluation"
      ],
      "metadata": {
        "id": "vG6COERmWi7h"
      }
    },
    {
      "cell_type": "code",
      "source": [
        "# Evaluasi akurasi\n",
        "loss, acc = model.evaluate(X_test_pad, y_test)\n",
        "print(f\"Testing Accuration: {acc:.4f}\")\n"
      ],
      "metadata": {
        "colab": {
          "base_uri": "https://localhost:8080/"
        },
        "id": "Nr7ZmO4UWmPD",
        "outputId": "97ccf85d-c039-4b84-bdd2-b792ac35c2e9"
      },
      "execution_count": 8,
      "outputs": [
        {
          "output_type": "stream",
          "name": "stdout",
          "text": [
            "\u001b[1m313/313\u001b[0m \u001b[32m━━━━━━━━━━━━━━━━━━━━\u001b[0m\u001b[37m\u001b[0m \u001b[1m32s\u001b[0m 103ms/step - accuracy: 0.8926 - loss: 0.3629\n",
            "Testing Accuration: 0.8909\n"
          ]
        }
      ]
    },
    {
      "cell_type": "markdown",
      "source": [
        "8. Classification Report"
      ],
      "metadata": {
        "id": "Y_uZzpE4W2vp"
      }
    },
    {
      "cell_type": "code",
      "source": [
        "y_pred = (model.predict(X_test_pad) > 0.5).astype(\"int32\")\n",
        "\n",
        "print(\"Classification Report:\\n\")\n",
        "print(classification_report(y_test, y_pred))"
      ],
      "metadata": {
        "colab": {
          "base_uri": "https://localhost:8080/"
        },
        "id": "UmakOfrfW6Fc",
        "outputId": "04892bf3-a104-4189-a194-a5e895adc5fd"
      },
      "execution_count": 9,
      "outputs": [
        {
          "output_type": "stream",
          "name": "stdout",
          "text": [
            "\u001b[1m313/313\u001b[0m \u001b[32m━━━━━━━━━━━━━━━━━━━━\u001b[0m\u001b[37m\u001b[0m \u001b[1m28s\u001b[0m 90ms/step\n",
            "Classification Report:\n",
            "\n",
            "              precision    recall  f1-score   support\n",
            "\n",
            "           0       0.87      0.91      0.89      4961\n",
            "           1       0.91      0.87      0.89      5039\n",
            "\n",
            "    accuracy                           0.89     10000\n",
            "   macro avg       0.89      0.89      0.89     10000\n",
            "weighted avg       0.89      0.89      0.89     10000\n",
            "\n"
          ]
        }
      ]
    },
    {
      "cell_type": "markdown",
      "source": [
        "9. Plot Accuracy vs Epoch"
      ],
      "metadata": {
        "id": "EVzKbVIuXM5T"
      }
    },
    {
      "cell_type": "code",
      "source": [
        "def plot_history(history, title):\n",
        "    plt.plot(history.history['accuracy'], label='Train')\n",
        "    plt.plot(history.history['val_accuracy'], label='Validation')\n",
        "    plt.title(title)\n",
        "    plt.xlabel('Epoch')\n",
        "    plt.ylabel('Accuracy')\n",
        "    plt.legend()\n",
        "    plt.grid(True)\n",
        "    plt.show()\n",
        "\n",
        "plot_history(history, \"LSTM Accuracy\")\n"
      ],
      "metadata": {
        "colab": {
          "base_uri": "https://localhost:8080/",
          "height": 472
        },
        "id": "VpvLY7bpXVPN",
        "outputId": "293afed6-796a-46df-f444-505581f57fce"
      },
      "execution_count": 10,
      "outputs": [
        {
          "output_type": "display_data",
          "data": {
            "text/plain": [
              "<Figure size 640x480 with 1 Axes>"
            ],
            "image/png": "[encoded data removed]"
          },
          "metadata": {}
        }
      ]
    },
    {
      "cell_type": "markdown",
      "source": [
        "# Conclusion"
      ],
      "metadata": {
        "id": "rPGqQWmBX5lY"
      }
    },
    {
      "cell_type": "markdown",
      "source": [
        "The LSTM-based sentiment analysis model achieved an overall accuracy of 89% on the test dataset, demonstrating strong performance in classifying positive and negative movie reviews.\n",
        "\n",
        "From the classification report:\n",
        "\n",
        "The model performed equally well on both classes, with an F1-score of 0.89 for both positive and negative sentiments.\n",
        "\n",
        "Precision and recall were well-balanced:\n",
        "\n",
        "For class 0 (negative): Precision = 0.87, Recall = 0.91\n",
        "\n",
        "For class 1 (positive): Precision = 0.91, Recall = 0.87\n",
        "\n",
        "The training graph shows that:\n",
        "\n",
        "The model's training accuracy increased steadily across epochs.\n",
        "\n",
        "However, the validation accuracy plateaued after epoch 2 and slightly declined, suggesting a risk of overfitting if training continues without regularization or early stopping.\n",
        "\n",
        "In summary, the LSTM model is effective for binary sentiment classification, but further optimization (e.g., dropout, tuning epochs, or regularization techniques) may help improve generalization on unseen data.\n",
        "\n",
        "Future Work :\n",
        "Compare performance with GRU and CNN models.\n",
        "\n",
        "Tune learning rate, batch size, and other hyperparameters.\n",
        "\n",
        "Apply pretrained models like BERT for better accuracy.\n",
        "\n",
        "\n"
      ],
      "metadata": {
        "id": "eamSioXAXbGU"
      }
    },
    {
      "cell_type": "code",
      "source": [],
      "metadata": {
        "id": "HbClHn-kaQO5"
      },
      "execution_count": null,
      "outputs": []
    }
  ]
}